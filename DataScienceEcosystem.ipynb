{
 "cells": [
  {
   "cell_type": "markdown",
   "id": "c393a5e5-eded-46ad-95e6-edc3b762e919",
   "metadata": {},
   "source": [
    "# Data Science Tools and Ecosystem"
   ]
  },
  {
   "cell_type": "markdown",
   "id": "17fb4594-5d90-467e-abde-11d546ab55bc",
   "metadata": {},
   "source": [
    "Write an introductory sentence about the notebook such as the follows:"
   ]
  },
  {
   "cell_type": "markdown",
   "id": "73f63892-b2a5-4dbb-bb33-49d12aaa4a34",
   "metadata": {},
   "source": [
    " #### In this notebook, Data Science Tools and Ecosystem are summarized."
   ]
  },
  {
   "cell_type": "markdown",
   "id": "9be0ff4a-fd39-4049-87b2-7c4d28670ed8",
   "metadata": {},
   "source": [
    "### Objectives:\n",
    "\n",
    "The main objective of this notebook is to know about all the tools and libraries in Data Science.\n",
    "There is many popular languages for Data Science is available like Python, R, Scala, C++, Java etc.\n",
    "And there is many Tools for the Data Science is available Jupyter Notebook, R studio, Watson Studio, Tableau, etc."
   ]
  },
  {
   "cell_type": "markdown",
   "id": "ca39292b-dc2d-44a4-b766-c85b9500529d",
   "metadata": {},
   "source": [
    "### Some of the popular languages that Data Scientists use are:\n"
   ]
  },
  {
   "cell_type": "markdown",
   "id": "a47b4e18-35e7-4c33-a79c-9fe68c5b8d40",
   "metadata": {},
   "source": [
    "#### 1.Python\n",
    "#### 2.SQL\n",
    "#### 3.R\n",
    "#### 4.Scala\n",
    "#### 5.Julia"
   ]
  },
  {
   "cell_type": "markdown",
   "id": "6b039ad1-a166-4472-84e9-a15e842c01d0",
   "metadata": {},
   "source": [
    "### Some of the commonly used libraries used by Data Scientists include:\n"
   ]
  },
  {
   "cell_type": "markdown",
   "id": "c92ffe5c-b5f7-4341-bcbe-97f0e9cfa218",
   "metadata": {},
   "source": [
    "#### 1.Numpy\n",
    "#### 2.Pandas\n",
    "#### 3.Matplotlib\n",
    "#### 4.Scipy\n",
    "#### 5.PyTorch\n",
    "#### 6.TenserFlow\n",
    "#### 7.Scikit-learn"
   ]
  },
  {
   "cell_type": "markdown",
   "id": "45f52c6d-1dad-47b4-9986-6763bb21dda6",
   "metadata": {},
   "source": [
    "## Data Science Tools"
   ]
  },
  {
   "cell_type": "markdown",
   "id": "c5f12b19-83f7-456b-a2d4-4d52549af53d",
   "metadata": {},
   "source": [
    "#### 1.Jupyter Notebook\n",
    "#### 2.TensorFlow\n",
    "#### 3.Tableau\n",
    "#### 4.Apache Hadoop\n",
    "#### 5.Python\n",
    "#### 6.MongoDB"
   ]
  },
  {
   "cell_type": "markdown",
   "id": "30bf12d5-df88-4833-b866-7ad5439db27d",
   "metadata": {},
   "source": [
    "### Below are a few examples of evaluating arithmetic expressions in Python"
   ]
  },
  {
   "cell_type": "code",
   "execution_count": 1,
   "id": "c450bdc2-0c0e-468f-982e-125ebc7ffb9d",
   "metadata": {},
   "outputs": [
    {
     "data": {
      "text/plain": [
       "1000"
      ]
     },
     "execution_count": 1,
     "metadata": {},
     "output_type": "execute_result"
    }
   ],
   "source": [
    "50*20"
   ]
  },
  {
   "cell_type": "markdown",
   "id": "09beb7d9-76a7-48af-8d19-4a1df70aa735",
   "metadata": {},
   "source": [
    "###  This a simple arithmetic expression to mutiply then add integers"
   ]
  },
  {
   "cell_type": "code",
   "execution_count": 2,
   "id": "1f4303a4-7000-4ce3-82cd-7387aa41b52e",
   "metadata": {},
   "outputs": [
    {
     "data": {
      "text/plain": [
       "17"
      ]
     },
     "execution_count": 2,
     "metadata": {},
     "output_type": "execute_result"
    }
   ],
   "source": [
    "(3*4)+5"
   ]
  },
  {
   "cell_type": "markdown",
   "id": "b4903ed3-95e5-4b3b-bacb-2d9811d177d3",
   "metadata": {},
   "source": [
    "###  This will convert minutes to hours ."
   ]
  },
  {
   "cell_type": "code",
   "execution_count": 7,
   "id": "9117bf70-1446-4916-b9eb-5733f3765d16",
   "metadata": {},
   "outputs": [
    {
     "name": "stdout",
     "output_type": "stream",
     "text": [
      "10\n"
     ]
    }
   ],
   "source": [
    "min = 630\n",
    "h = min//60\n",
    "print(h)"
   ]
  },
  {
   "cell_type": "markdown",
   "id": "9bb14cb4-98c9-409c-b624-97456e4d01ce",
   "metadata": {},
   "source": [
    "## Author"
   ]
  },
  {
   "cell_type": "markdown",
   "id": "8a48aff6-7bf7-4ad7-b373-597e31a6ea45",
   "metadata": {},
   "source": [
    "Suraj Yadav"
   ]
  },
  {
   "cell_type": "code",
   "execution_count": null,
   "id": "672ae945-f647-40d3-95c2-3b435828abcc",
   "metadata": {},
   "outputs": [],
   "source": []
  }
 ],
 "metadata": {
  "kernelspec": {
   "display_name": "Python 3 (ipykernel)",
   "language": "python",
   "name": "python3"
  },
  "language_info": {
   "codemirror_mode": {
    "name": "ipython",
    "version": 3
   },
   "file_extension": ".py",
   "mimetype": "text/x-python",
   "name": "python",
   "nbconvert_exporter": "python",
   "pygments_lexer": "ipython3",
   "version": "3.13.0"
  }
 },
 "nbformat": 4,
 "nbformat_minor": 5
}
